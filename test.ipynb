{
 "cells": [
  {
   "cell_type": "code",
   "execution_count": 5,
   "metadata": {},
   "outputs": [
    {
     "name": "stdout",
     "output_type": "stream",
     "text": [
      "The autoreload extension is already loaded. To reload it, use:\n",
      "  %reload_ext autoreload\n"
     ]
    }
   ],
   "source": [
    "%load_ext autoreload\n",
    "%autoreload 2"
   ]
  },
  {
   "cell_type": "code",
   "execution_count": 12,
   "metadata": {},
   "outputs": [],
   "source": [
    "import math\n",
    "from typing import List\n",
    "\n",
    "import torch\n",
    "from torch import nn, Tensor\n",
    "import torch.nn.functional as F\n",
    "\n",
    "from torchvision.models import swin_v2_t, Swin_V2_T_Weights\n",
    "\n",
    "import attention\n",
    "import net\n",
    "import swin"
   ]
  },
  {
   "cell_type": "code",
   "execution_count": 13,
   "metadata": {},
   "outputs": [],
   "source": [
    "def count_parameters(model):\n",
    "    return sum(p.numel() for p in model.parameters() if p.requires_grad)"
   ]
  },
  {
   "cell_type": "code",
   "execution_count": 16,
   "metadata": {},
   "outputs": [
    {
     "name": "stderr",
     "output_type": "stream",
     "text": [
      "/home/leonard/miniconda3/envs/torch/lib/python3.10/site-packages/torchvision/models/_utils.py:135: UserWarning: Using 'weights' as positional parameter(s) is deprecated since 0.13 and may be removed in the future. Please use keyword parameter(s) instead.\n",
      "  warnings.warn(\n"
     ]
    },
    {
     "data": {
      "text/plain": [
       "27581034"
      ]
     },
     "execution_count": 16,
     "metadata": {},
     "output_type": "execute_result"
    }
   ],
   "source": [
    "pretrain = swin.SwinTransformer.swin_t()\n",
    "\n",
    "# layers = list(pretrain.children())\n",
    "\n",
    "count_parameters(pretrain)"
   ]
  },
  {
   "cell_type": "code",
   "execution_count": 46,
   "metadata": {},
   "outputs": [
    {
     "data": {
      "text/plain": [
       "7468398"
      ]
     },
     "execution_count": 46,
     "metadata": {},
     "output_type": "execute_result"
    }
   ],
   "source": [
    "net = swin.SwinTransformer.arda_swin()\n",
    "count_parameters(net)"
   ]
  },
  {
   "cell_type": "code",
   "execution_count": null,
   "metadata": {},
   "outputs": [],
   "source": [
    "16715808\n",
    "7243326"
   ]
  },
  {
   "cell_type": "code",
   "execution_count": 32,
   "metadata": {},
   "outputs": [],
   "source": [
    "network = swin.SwinTransformer.swin_t()"
   ]
  },
  {
   "cell_type": "code",
   "execution_count": 55,
   "metadata": {},
   "outputs": [
    {
     "name": "stdout",
     "output_type": "stream",
     "text": [
      "[SwinBlock(\n",
      "  (norm1): LayerNorm((96,), eps=1e-05, elementwise_affine=True)\n",
      "  (attn): ShiftWindowMHA(\n",
      "    (query): Linear(in_features=96, out_features=96, bias=False)\n",
      "    (key): Linear(in_features=96, out_features=96, bias=False)\n",
      "    (value): Linear(in_features=96, out_features=96, bias=True)\n",
      "    (linear): Linear(in_features=96, out_features=96, bias=True)\n",
      "    (attention_dropout): Dropout(p=0.1, inplace=False)\n",
      "    (dropout): Dropout(p=0.1, inplace=False)\n",
      "    (cpb_mlp): Sequential(\n",
      "      (0): Linear(in_features=2, out_features=512, bias=True)\n",
      "      (1): ReLU(inplace=True)\n",
      "      (2): Linear(in_features=512, out_features=3, bias=False)\n",
      "    )\n",
      "  )\n",
      "  (stochastic_depth): StochasticDepth(p=0.0, mode=row)\n",
      "  (norm2): LayerNorm((96,), eps=1e-05, elementwise_affine=True)\n",
      "  (mlp): MLP(\n",
      "    (0): Linear(in_features=96, out_features=384, bias=True)\n",
      "    (1): GELU(approximate='none')\n",
      "    (2): Dropout(p=0.1, inplace=False)\n",
      "    (3): Linear(in_features=384, out_features=96, bias=True)\n",
      "    (4): Dropout(p=0.1, inplace=False)\n",
      "  )\n",
      "), SwinBlock(\n",
      "  (norm1): LayerNorm((96,), eps=1e-05, elementwise_affine=True)\n",
      "  (attn): ShiftWindowMHA(\n",
      "    (query): Linear(in_features=96, out_features=96, bias=False)\n",
      "    (key): Linear(in_features=96, out_features=96, bias=False)\n",
      "    (value): Linear(in_features=96, out_features=96, bias=True)\n",
      "    (linear): Linear(in_features=96, out_features=96, bias=True)\n",
      "    (attention_dropout): Dropout(p=0.1, inplace=False)\n",
      "    (dropout): Dropout(p=0.1, inplace=False)\n",
      "    (cpb_mlp): Sequential(\n",
      "      (0): Linear(in_features=2, out_features=512, bias=True)\n",
      "      (1): ReLU(inplace=True)\n",
      "      (2): Linear(in_features=512, out_features=3, bias=False)\n",
      "    )\n",
      "  )\n",
      "  (stochastic_depth): StochasticDepth(p=0.018181818181818184, mode=row)\n",
      "  (norm2): LayerNorm((96,), eps=1e-05, elementwise_affine=True)\n",
      "  (mlp): MLP(\n",
      "    (0): Linear(in_features=96, out_features=384, bias=True)\n",
      "    (1): GELU(approximate='none')\n",
      "    (2): Dropout(p=0.1, inplace=False)\n",
      "    (3): Linear(in_features=384, out_features=96, bias=True)\n",
      "    (4): Dropout(p=0.1, inplace=False)\n",
      "  )\n",
      ")]\n",
      "------------------------------\n",
      "[SwinBlock(\n",
      "  (norm1): LayerNorm((192,), eps=1e-05, elementwise_affine=True)\n",
      "  (attn): ShiftWindowMHA(\n",
      "    (query): Linear(in_features=192, out_features=192, bias=False)\n",
      "    (key): Linear(in_features=192, out_features=192, bias=False)\n",
      "    (value): Linear(in_features=192, out_features=192, bias=True)\n",
      "    (linear): Linear(in_features=192, out_features=192, bias=True)\n",
      "    (attention_dropout): Dropout(p=0.1, inplace=False)\n",
      "    (dropout): Dropout(p=0.1, inplace=False)\n",
      "    (cpb_mlp): Sequential(\n",
      "      (0): Linear(in_features=2, out_features=512, bias=True)\n",
      "      (1): ReLU(inplace=True)\n",
      "      (2): Linear(in_features=512, out_features=6, bias=False)\n",
      "    )\n",
      "  )\n",
      "  (stochastic_depth): StochasticDepth(p=0.03636363636363637, mode=row)\n",
      "  (norm2): LayerNorm((192,), eps=1e-05, elementwise_affine=True)\n",
      "  (mlp): MLP(\n",
      "    (0): Linear(in_features=192, out_features=768, bias=True)\n",
      "    (1): GELU(approximate='none')\n",
      "    (2): Dropout(p=0.1, inplace=False)\n",
      "    (3): Linear(in_features=768, out_features=192, bias=True)\n",
      "    (4): Dropout(p=0.1, inplace=False)\n",
      "  )\n",
      "), SwinBlock(\n",
      "  (norm1): LayerNorm((192,), eps=1e-05, elementwise_affine=True)\n",
      "  (attn): ShiftWindowMHA(\n",
      "    (query): Linear(in_features=192, out_features=192, bias=False)\n",
      "    (key): Linear(in_features=192, out_features=192, bias=False)\n",
      "    (value): Linear(in_features=192, out_features=192, bias=True)\n",
      "    (linear): Linear(in_features=192, out_features=192, bias=True)\n",
      "    (attention_dropout): Dropout(p=0.1, inplace=False)\n",
      "    (dropout): Dropout(p=0.1, inplace=False)\n",
      "    (cpb_mlp): Sequential(\n",
      "      (0): Linear(in_features=2, out_features=512, bias=True)\n",
      "      (1): ReLU(inplace=True)\n",
      "      (2): Linear(in_features=512, out_features=6, bias=False)\n",
      "    )\n",
      "  )\n",
      "  (stochastic_depth): StochasticDepth(p=0.05454545454545456, mode=row)\n",
      "  (norm2): LayerNorm((192,), eps=1e-05, elementwise_affine=True)\n",
      "  (mlp): MLP(\n",
      "    (0): Linear(in_features=192, out_features=768, bias=True)\n",
      "    (1): GELU(approximate='none')\n",
      "    (2): Dropout(p=0.1, inplace=False)\n",
      "    (3): Linear(in_features=768, out_features=192, bias=True)\n",
      "    (4): Dropout(p=0.1, inplace=False)\n",
      "  )\n",
      ")]\n",
      "------------------------------\n",
      "[SwinBlock(\n",
      "  (norm1): LayerNorm((384,), eps=1e-05, elementwise_affine=True)\n",
      "  (attn): ShiftWindowMHA(\n",
      "    (query): Linear(in_features=384, out_features=384, bias=False)\n",
      "    (key): Linear(in_features=384, out_features=384, bias=False)\n",
      "    (value): Linear(in_features=384, out_features=384, bias=True)\n",
      "    (linear): Linear(in_features=384, out_features=384, bias=True)\n",
      "    (attention_dropout): Dropout(p=0.1, inplace=False)\n",
      "    (dropout): Dropout(p=0.1, inplace=False)\n",
      "    (cpb_mlp): Sequential(\n",
      "      (0): Linear(in_features=2, out_features=512, bias=True)\n",
      "      (1): ReLU(inplace=True)\n",
      "      (2): Linear(in_features=512, out_features=12, bias=False)\n",
      "    )\n",
      "  )\n",
      "  (stochastic_depth): StochasticDepth(p=0.07272727272727274, mode=row)\n",
      "  (norm2): LayerNorm((384,), eps=1e-05, elementwise_affine=True)\n",
      "  (mlp): MLP(\n",
      "    (0): Linear(in_features=384, out_features=1536, bias=True)\n",
      "    (1): GELU(approximate='none')\n",
      "    (2): Dropout(p=0.1, inplace=False)\n",
      "    (3): Linear(in_features=1536, out_features=384, bias=True)\n",
      "    (4): Dropout(p=0.1, inplace=False)\n",
      "  )\n",
      "), SwinBlock(\n",
      "  (norm1): LayerNorm((384,), eps=1e-05, elementwise_affine=True)\n",
      "  (attn): ShiftWindowMHA(\n",
      "    (query): Linear(in_features=384, out_features=384, bias=False)\n",
      "    (key): Linear(in_features=384, out_features=384, bias=False)\n",
      "    (value): Linear(in_features=384, out_features=384, bias=True)\n",
      "    (linear): Linear(in_features=384, out_features=384, bias=True)\n",
      "    (attention_dropout): Dropout(p=0.1, inplace=False)\n",
      "    (dropout): Dropout(p=0.1, inplace=False)\n",
      "    (cpb_mlp): Sequential(\n",
      "      (0): Linear(in_features=2, out_features=512, bias=True)\n",
      "      (1): ReLU(inplace=True)\n",
      "      (2): Linear(in_features=512, out_features=12, bias=False)\n",
      "    )\n",
      "  )\n",
      "  (stochastic_depth): StochasticDepth(p=0.09090909090909091, mode=row)\n",
      "  (norm2): LayerNorm((384,), eps=1e-05, elementwise_affine=True)\n",
      "  (mlp): MLP(\n",
      "    (0): Linear(in_features=384, out_features=1536, bias=True)\n",
      "    (1): GELU(approximate='none')\n",
      "    (2): Dropout(p=0.1, inplace=False)\n",
      "    (3): Linear(in_features=1536, out_features=384, bias=True)\n",
      "    (4): Dropout(p=0.1, inplace=False)\n",
      "  )\n",
      "), SwinBlock(\n",
      "  (norm1): LayerNorm((384,), eps=1e-05, elementwise_affine=True)\n",
      "  (attn): ShiftWindowMHA(\n",
      "    (query): Linear(in_features=384, out_features=384, bias=False)\n",
      "    (key): Linear(in_features=384, out_features=384, bias=False)\n",
      "    (value): Linear(in_features=384, out_features=384, bias=True)\n",
      "    (linear): Linear(in_features=384, out_features=384, bias=True)\n",
      "    (attention_dropout): Dropout(p=0.1, inplace=False)\n",
      "    (dropout): Dropout(p=0.1, inplace=False)\n",
      "    (cpb_mlp): Sequential(\n",
      "      (0): Linear(in_features=2, out_features=512, bias=True)\n",
      "      (1): ReLU(inplace=True)\n",
      "      (2): Linear(in_features=512, out_features=12, bias=False)\n",
      "    )\n",
      "  )\n",
      "  (stochastic_depth): StochasticDepth(p=0.10909090909090911, mode=row)\n",
      "  (norm2): LayerNorm((384,), eps=1e-05, elementwise_affine=True)\n",
      "  (mlp): MLP(\n",
      "    (0): Linear(in_features=384, out_features=1536, bias=True)\n",
      "    (1): GELU(approximate='none')\n",
      "    (2): Dropout(p=0.1, inplace=False)\n",
      "    (3): Linear(in_features=1536, out_features=384, bias=True)\n",
      "    (4): Dropout(p=0.1, inplace=False)\n",
      "  )\n",
      "), SwinBlock(\n",
      "  (norm1): LayerNorm((384,), eps=1e-05, elementwise_affine=True)\n",
      "  (attn): ShiftWindowMHA(\n",
      "    (query): Linear(in_features=384, out_features=384, bias=False)\n",
      "    (key): Linear(in_features=384, out_features=384, bias=False)\n",
      "    (value): Linear(in_features=384, out_features=384, bias=True)\n",
      "    (linear): Linear(in_features=384, out_features=384, bias=True)\n",
      "    (attention_dropout): Dropout(p=0.1, inplace=False)\n",
      "    (dropout): Dropout(p=0.1, inplace=False)\n",
      "    (cpb_mlp): Sequential(\n",
      "      (0): Linear(in_features=2, out_features=512, bias=True)\n",
      "      (1): ReLU(inplace=True)\n",
      "      (2): Linear(in_features=512, out_features=12, bias=False)\n",
      "    )\n",
      "  )\n",
      "  (stochastic_depth): StochasticDepth(p=0.1272727272727273, mode=row)\n",
      "  (norm2): LayerNorm((384,), eps=1e-05, elementwise_affine=True)\n",
      "  (mlp): MLP(\n",
      "    (0): Linear(in_features=384, out_features=1536, bias=True)\n",
      "    (1): GELU(approximate='none')\n",
      "    (2): Dropout(p=0.1, inplace=False)\n",
      "    (3): Linear(in_features=1536, out_features=384, bias=True)\n",
      "    (4): Dropout(p=0.1, inplace=False)\n",
      "  )\n",
      "), SwinBlock(\n",
      "  (norm1): LayerNorm((384,), eps=1e-05, elementwise_affine=True)\n",
      "  (attn): ShiftWindowMHA(\n",
      "    (query): Linear(in_features=384, out_features=384, bias=False)\n",
      "    (key): Linear(in_features=384, out_features=384, bias=False)\n",
      "    (value): Linear(in_features=384, out_features=384, bias=True)\n",
      "    (linear): Linear(in_features=384, out_features=384, bias=True)\n",
      "    (attention_dropout): Dropout(p=0.1, inplace=False)\n",
      "    (dropout): Dropout(p=0.1, inplace=False)\n",
      "    (cpb_mlp): Sequential(\n",
      "      (0): Linear(in_features=2, out_features=512, bias=True)\n",
      "      (1): ReLU(inplace=True)\n",
      "      (2): Linear(in_features=512, out_features=12, bias=False)\n",
      "    )\n",
      "  )\n",
      "  (stochastic_depth): StochasticDepth(p=0.14545454545454548, mode=row)\n",
      "  (norm2): LayerNorm((384,), eps=1e-05, elementwise_affine=True)\n",
      "  (mlp): MLP(\n",
      "    (0): Linear(in_features=384, out_features=1536, bias=True)\n",
      "    (1): GELU(approximate='none')\n",
      "    (2): Dropout(p=0.1, inplace=False)\n",
      "    (3): Linear(in_features=1536, out_features=384, bias=True)\n",
      "    (4): Dropout(p=0.1, inplace=False)\n",
      "  )\n",
      "), SwinBlock(\n",
      "  (norm1): LayerNorm((384,), eps=1e-05, elementwise_affine=True)\n",
      "  (attn): ShiftWindowMHA(\n",
      "    (query): Linear(in_features=384, out_features=384, bias=False)\n",
      "    (key): Linear(in_features=384, out_features=384, bias=False)\n",
      "    (value): Linear(in_features=384, out_features=384, bias=True)\n",
      "    (linear): Linear(in_features=384, out_features=384, bias=True)\n",
      "    (attention_dropout): Dropout(p=0.1, inplace=False)\n",
      "    (dropout): Dropout(p=0.1, inplace=False)\n",
      "    (cpb_mlp): Sequential(\n",
      "      (0): Linear(in_features=2, out_features=512, bias=True)\n",
      "      (1): ReLU(inplace=True)\n",
      "      (2): Linear(in_features=512, out_features=12, bias=False)\n",
      "    )\n",
      "  )\n",
      "  (stochastic_depth): StochasticDepth(p=0.16363636363636364, mode=row)\n",
      "  (norm2): LayerNorm((384,), eps=1e-05, elementwise_affine=True)\n",
      "  (mlp): MLP(\n",
      "    (0): Linear(in_features=384, out_features=1536, bias=True)\n",
      "    (1): GELU(approximate='none')\n",
      "    (2): Dropout(p=0.1, inplace=False)\n",
      "    (3): Linear(in_features=1536, out_features=384, bias=True)\n",
      "    (4): Dropout(p=0.1, inplace=False)\n",
      "  )\n",
      ")]\n",
      "------------------------------\n",
      "[SwinBlock(\n",
      "  (norm1): LayerNorm((768,), eps=1e-05, elementwise_affine=True)\n",
      "  (attn): ShiftWindowMHA(\n",
      "    (query): Linear(in_features=768, out_features=768, bias=False)\n",
      "    (key): Linear(in_features=768, out_features=768, bias=False)\n",
      "    (value): Linear(in_features=768, out_features=768, bias=True)\n",
      "    (linear): Linear(in_features=768, out_features=768, bias=True)\n",
      "    (attention_dropout): Dropout(p=0.1, inplace=False)\n",
      "    (dropout): Dropout(p=0.1, inplace=False)\n",
      "    (cpb_mlp): Sequential(\n",
      "      (0): Linear(in_features=2, out_features=512, bias=True)\n",
      "      (1): ReLU(inplace=True)\n",
      "      (2): Linear(in_features=512, out_features=24, bias=False)\n",
      "    )\n",
      "  )\n",
      "  (stochastic_depth): StochasticDepth(p=0.18181818181818182, mode=row)\n",
      "  (norm2): LayerNorm((768,), eps=1e-05, elementwise_affine=True)\n",
      "  (mlp): MLP(\n",
      "    (0): Linear(in_features=768, out_features=3072, bias=True)\n",
      "    (1): GELU(approximate='none')\n",
      "    (2): Dropout(p=0.1, inplace=False)\n",
      "    (3): Linear(in_features=3072, out_features=768, bias=True)\n",
      "    (4): Dropout(p=0.1, inplace=False)\n",
      "  )\n",
      ")]\n",
      "------------------------------\n"
     ]
    }
   ],
   "source": [
    "layers = list(network.children())\n",
    "# for layer in layers[1].children():\n",
    "#     print(layer)\n",
    "#     break\n",
    "for layer in list(layers[1]):\n",
    "    print(list(layer.children())[:-1])\n",
    "    print('-'*30)\n",
    "    # break"
   ]
  },
  {
   "cell_type": "code",
   "execution_count": null,
   "metadata": {},
   "outputs": [],
   "source": [
    "B, T, E, D = 4, 5, 2, 10\n",
    "\n",
    "x = torch.rand((B*T*E*D)).reshape((B, T, E*D))\n",
    "print(x.shape)\n",
    "print(x.mT.shape)\n",
    "x = x.view((x.size(0), E, D))\n",
    "x.shape"
   ]
  },
  {
   "cell_type": "code",
   "execution_count": null,
   "metadata": {},
   "outputs": [],
   "source": [
    "B, H, W, E, D = 4, 3, 3, 2, 12\n",
    "\n",
    "x = torch.rand((B*H*W*E*D)).reshape((B, H, W, E*D))\n",
    "print(x.shape, x.shape[0], x.shape[-1])\n",
    "\n",
    "x = x.view((*x.shape[:-1], E, x.size(-1)//E))\n",
    "print(x.shape)\n",
    "\n",
    "x = x @ x.mT\n",
    "print(x.shape)"
   ]
  },
  {
   "cell_type": "code",
   "execution_count": 3,
   "metadata": {},
   "outputs": [
    {
     "name": "stdout",
     "output_type": "stream",
     "text": [
      "torch.Size([4, 49, 24])\n"
     ]
    }
   ],
   "source": [
    "B, H, W, E, D = 4, 7, 7, 2, 24\n",
    "i = torch.rand((B*H*W*D)).reshape((B, H, W, D))\n",
    "\n",
    "mha = attention.MultiHeadAttention(D, E, 0.1, 0.1)\n",
    "y = mha(i.reshape((B, H*W, D)))\n",
    "print(y.shape)\n"
   ]
  },
  {
   "cell_type": "code",
   "execution_count": 6,
   "metadata": {},
   "outputs": [
    {
     "data": {
      "text/plain": [
       "torch.Size([4, 10, 10, 24])"
      ]
     },
     "execution_count": 6,
     "metadata": {},
     "output_type": "execute_result"
    }
   ],
   "source": [
    "B, H, W, E, D = 4, 10, 10, 2, 24\n",
    "mha = attention.ShiftWindowMHA([8, 8], [4, 4], D, E, 0.1, 0.1)\n",
    "i = torch.rand((B*H*W*D)).reshape((B, H, W, D))\n",
    "mha(i).shape"
   ]
  },
  {
   "cell_type": "code",
   "execution_count": 132,
   "metadata": {},
   "outputs": [
    {
     "name": "stdout",
     "output_type": "stream",
     "text": [
      "abc torch.Size([16, 2, 64, 64])\n",
      "torch.Size([4, 4, 2, 64, 64]) torch.Size([4, 64, 64])\n"
     ]
    },
    {
     "data": {
      "text/plain": [
       "torch.Size([4, 10, 10, 24])"
      ]
     },
     "execution_count": 132,
     "metadata": {},
     "output_type": "execute_result"
    }
   ],
   "source": [
    "mha = net.SwinAttention(\n",
    "    D, [8, 8], [4, 4], E, 0.1, 0.1\n",
    ")\n",
    "mha(i).shape"
   ]
  },
  {
   "cell_type": "code",
   "execution_count": 124,
   "metadata": {},
   "outputs": [
    {
     "name": "stdout",
     "output_type": "stream",
     "text": [
      "here torch.Size([8, 8])\n",
      "torch.Size([2, 4, 2, 4]) torch.Size([2, 2, 4, 4])\n",
      "torch.Size([4, 16])\n",
      "torch.Size([4, 1, 16]) torch.Size([4, 16, 1])\n",
      "torch.Size([4, 16, 16])\n"
     ]
    }
   ],
   "source": [
    "window_size = torch.tensor([4, 4])\n",
    "shift_size = torch.tensor([2, 2])\n",
    "\n",
    "size = torch.tensor([i.size(1), i.size(2)], dtype=torch.int, device=i.device)\n",
    "shift = torch.where(window_size >= size, 0, shift_size)\n",
    "pad = (window_size - size%window_size)%window_size\n",
    "pad_img = F.pad(i, (0, 0, 0, pad[1], 0, pad[0]))\n",
    "\n",
    "num_windows = (pad_img.size(1) // window_size[0]) * (pad_img.size(2) // window_size[1])\n",
    "attn_mask = x.new_zeros([pad_img.size(1), pad_img.size(2)])\n",
    "h_slices = ((0, -window_size[0]), (-window_size[0], -shift[0]), (-shift[0], None))\n",
    "w_slices = ((0, -window_size[1]), (-window_size[1], -shift[1]), (-shift[1], None))\n",
    "count = 0\n",
    "for h in h_slices:\n",
    "    for w in w_slices:\n",
    "        # print(h, w)\n",
    "        attn_mask[h[0] : h[1], w[0] : w[1]] = count\n",
    "        count += 1\n",
    "print('here', attn_mask.shape)\n",
    "attn_mask = attn_mask.view(pad_img.size(1) // window_size[0], window_size[0], pad_img.size(2) // window_size[1], window_size[1])\n",
    "print(attn_mask.shape, attn_mask.permute(0, 2, 1, 3).shape)\n",
    "attn_mask = attn_mask.permute(0, 2, 1, 3).reshape(num_windows.prod(), window_size[0] * window_size[1])\n",
    "print(attn_mask.shape)\n",
    "print(attn_mask.unsqueeze(1).shape, attn_mask.unsqueeze(2).shape)\n",
    "attn_mask = attn_mask.unsqueeze(1) != attn_mask.unsqueeze(2)\n",
    "print(attn_mask.shape)\n",
    "# for j in range(16):\n",
    "# print(attn_mask[0, 0])\n",
    "# print(attn_mask[1, 0])\n",
    "# print(attn_mask[2, 0])\n",
    "# print(attn_mask[3, 0])"
   ]
  }
 ],
 "metadata": {
  "kernelspec": {
   "display_name": "torch",
   "language": "python",
   "name": "python3"
  },
  "language_info": {
   "codemirror_mode": {
    "name": "ipython",
    "version": 3
   },
   "file_extension": ".py",
   "mimetype": "text/x-python",
   "name": "python",
   "nbconvert_exporter": "python",
   "pygments_lexer": "ipython3",
   "version": "3.10.12"
  },
  "orig_nbformat": 4,
  "vscode": {
   "interpreter": {
    "hash": "7f8e845ca4ef26093e116a69c0c0225ebcc6616c4e8131964bb48d1688e6a5fa"
   }
  }
 },
 "nbformat": 4,
 "nbformat_minor": 2
}
