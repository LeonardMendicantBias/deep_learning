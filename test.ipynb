{
 "cells": [
  {
   "cell_type": "code",
   "execution_count": 1,
   "metadata": {},
   "outputs": [],
   "source": [
    "%load_ext autoreload\n",
    "%autoreload 2"
   ]
  },
  {
   "cell_type": "code",
   "execution_count": 2,
   "metadata": {},
   "outputs": [],
   "source": [
    "import math\n",
    "from typing import List\n",
    "\n",
    "import torch\n",
    "from torch import nn, Tensor\n",
    "import torch.nn.functional as F\n",
    "\n",
    "import attention\n",
    "import net"
   ]
  },
  {
   "cell_type": "code",
   "execution_count": null,
   "metadata": {},
   "outputs": [],
   "source": [
    "B, T, E, D = 4, 5, 2, 10\n",
    "\n",
    "x = torch.rand((B*T*E*D)).reshape((B, T, E*D))\n",
    "print(x.shape)\n",
    "print(x.mT.shape)\n",
    "x = x.view((x.size(0), E, D))\n",
    "x.shape"
   ]
  },
  {
   "cell_type": "code",
   "execution_count": null,
   "metadata": {},
   "outputs": [],
   "source": [
    "B, H, W, E, D = 4, 3, 3, 2, 12\n",
    "\n",
    "x = torch.rand((B*H*W*E*D)).reshape((B, H, W, E*D))\n",
    "print(x.shape, x.shape[0], x.shape[-1])\n",
    "\n",
    "x = x.view((*x.shape[:-1], E, x.size(-1)//E))\n",
    "print(x.shape)\n",
    "\n",
    "x = x @ x.mT\n",
    "print(x.shape)"
   ]
  },
  {
   "cell_type": "code",
   "execution_count": 88,
   "metadata": {},
   "outputs": [
    {
     "name": "stdout",
     "output_type": "stream",
     "text": [
      "torch.Size([4, 49, 24])\n"
     ]
    }
   ],
   "source": [
    "B, H, W, E, D = 4, 7, 7, 2, 24\n",
    "i = torch.rand((B*H*W*D)).reshape((B, H, W, D))\n",
    "\n",
    "mha = attention.MultiHeadAttention(D, E, 0.1, 0.1)\n",
    "y = mha(i.reshape((B, H*W, D)))\n",
    "print(y.shape)\n"
   ]
  },
  {
   "cell_type": "code",
   "execution_count": 160,
   "metadata": {},
   "outputs": [
    {
     "data": {
      "text/plain": [
       "torch.Size([4, 10, 10, 24])"
      ]
     },
     "execution_count": 160,
     "metadata": {},
     "output_type": "execute_result"
    }
   ],
   "source": [
    "B, H, W, E, D = 4, 10, 10, 2, 24\n",
    "mha = attention.ShiftWindowMHA([8,8], [4, 4], D, E, 0.1, 0.1)\n",
    "i = torch.rand((B*H*W*D)).reshape((B, H, W, D))\n",
    "mha(i).shape"
   ]
  },
  {
   "cell_type": "code",
   "execution_count": 132,
   "metadata": {},
   "outputs": [
    {
     "name": "stdout",
     "output_type": "stream",
     "text": [
      "abc torch.Size([16, 2, 64, 64])\n",
      "torch.Size([4, 4, 2, 64, 64]) torch.Size([4, 64, 64])\n"
     ]
    },
    {
     "data": {
      "text/plain": [
       "torch.Size([4, 10, 10, 24])"
      ]
     },
     "execution_count": 132,
     "metadata": {},
     "output_type": "execute_result"
    }
   ],
   "source": [
    "mha = net.SwinAttention(\n",
    "    D, [8,8], [4, 4], E, 0.1, 0.1\n",
    ")\n",
    "mha(i).shape"
   ]
  },
  {
   "cell_type": "code",
   "execution_count": 124,
   "metadata": {},
   "outputs": [
    {
     "name": "stdout",
     "output_type": "stream",
     "text": [
      "here torch.Size([8, 8])\n",
      "torch.Size([2, 4, 2, 4]) torch.Size([2, 2, 4, 4])\n",
      "torch.Size([4, 16])\n",
      "torch.Size([4, 1, 16]) torch.Size([4, 16, 1])\n",
      "torch.Size([4, 16, 16])\n"
     ]
    }
   ],
   "source": [
    "window_size = torch.tensor([4, 4])\n",
    "shift_size = torch.tensor([2, 2])\n",
    "\n",
    "size = torch.tensor([i.size(1), i.size(2)], dtype=torch.int, device=i.device)\n",
    "shift = torch.where(window_size >= size, 0, shift_size)\n",
    "pad = (window_size - size%window_size)%window_size\n",
    "pad_img = F.pad(i, (0, 0, 0, pad[1], 0, pad[0]))\n",
    "\n",
    "num_windows = (pad_img.size(1) // window_size[0]) * (pad_img.size(2) // window_size[1])\n",
    "attn_mask = x.new_zeros([pad_img.size(1), pad_img.size(2)])\n",
    "h_slices = ((0, -window_size[0]), (-window_size[0], -shift[0]), (-shift[0], None))\n",
    "w_slices = ((0, -window_size[1]), (-window_size[1], -shift[1]), (-shift[1], None))\n",
    "count = 0\n",
    "for h in h_slices:\n",
    "    for w in w_slices:\n",
    "        # print(h, w)\n",
    "        attn_mask[h[0] : h[1], w[0] : w[1]] = count\n",
    "        count += 1\n",
    "print('here', attn_mask.shape)\n",
    "attn_mask = attn_mask.view(pad_img.size(1) // window_size[0], window_size[0], pad_img.size(2) // window_size[1], window_size[1])\n",
    "print(attn_mask.shape, attn_mask.permute(0, 2, 1, 3).shape)\n",
    "attn_mask = attn_mask.permute(0, 2, 1, 3).reshape(num_windows.prod(), window_size[0] * window_size[1])\n",
    "print(attn_mask.shape)\n",
    "print(attn_mask.unsqueeze(1).shape, attn_mask.unsqueeze(2).shape)\n",
    "attn_mask = attn_mask.unsqueeze(1) != attn_mask.unsqueeze(2)\n",
    "print(attn_mask.shape)\n",
    "# for j in range(16):\n",
    "# print(attn_mask[0, 0])\n",
    "# print(attn_mask[1, 0])\n",
    "# print(attn_mask[2, 0])\n",
    "# print(attn_mask[3, 0])"
   ]
  }
 ],
 "metadata": {
  "kernelspec": {
   "display_name": "torch",
   "language": "python",
   "name": "python3"
  },
  "language_info": {
   "codemirror_mode": {
    "name": "ipython",
    "version": 3
   },
   "file_extension": ".py",
   "mimetype": "text/x-python",
   "name": "python",
   "nbconvert_exporter": "python",
   "pygments_lexer": "ipython3",
   "version": "3.10.10"
  },
  "orig_nbformat": 4,
  "vscode": {
   "interpreter": {
    "hash": "7f8e845ca4ef26093e116a69c0c0225ebcc6616c4e8131964bb48d1688e6a5fa"
   }
  }
 },
 "nbformat": 4,
 "nbformat_minor": 2
}
